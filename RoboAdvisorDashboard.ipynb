{
  "nbformat": 4,
  "nbformat_minor": 0,
  "metadata": {
    "colab": {
      "provenance": [],
      "authorship_tag": "ABX9TyO3fExAf60uQu8UjfFnSu4v",
      "include_colab_link": true
    },
    "kernelspec": {
      "name": "python3",
      "display_name": "Python 3"
    },
    "language_info": {
      "name": "python"
    }
  },
  "cells": [
    {
      "cell_type": "markdown",
      "metadata": {
        "id": "view-in-github",
        "colab_type": "text"
      },
      "source": [
        "<a href=\"https://colab.research.google.com/github/Maithraanand/Financial-Machine-Learning-FML-/blob/main/RoboAdvisorDashboard.ipynb\" target=\"_parent\"><img src=\"https://colab.research.google.com/assets/colab-badge.svg\" alt=\"Open In Colab\"/></a>"
      ]
    },
    {
      "cell_type": "code",
      "execution_count": 1,
      "metadata": {
        "colab": {
          "base_uri": "https://localhost:8080/"
        },
        "id": "vMNlUcrzKCRW",
        "outputId": "130e3d1a-7688-4183-a87e-0478a91ea3b9"
      },
      "outputs": [
        {
          "output_type": "stream",
          "name": "stderr",
          "text": [
            "/usr/local/lib/python3.10/dist-packages/_distutils_hack/__init__.py:32: UserWarning: Setuptools is replacing distutils. Support for replacing an already imported distutils is deprecated. In the future, this condition will fail. Register concerns at https://github.com/pypa/setuptools/issues/new?template=distutils-deprecation.yml\n",
            "  warnings.warn(\n"
          ]
        },
        {
          "output_type": "stream",
          "name": "stdout",
          "text": [
            "Collecting dash\n",
            "  Downloading dash-2.18.0-py3-none-any.whl.metadata (10 kB)\n",
            "Requirement already satisfied: Flask<3.1,>=1.0.4 in /usr/local/lib/python3.10/dist-packages (from dash) (2.2.5)\n",
            "Requirement already satisfied: Werkzeug<3.1 in /usr/local/lib/python3.10/dist-packages (from dash) (3.0.4)\n",
            "Requirement already satisfied: plotly>=5.0.0 in /usr/local/lib/python3.10/dist-packages (from dash) (5.15.0)\n",
            "Collecting dash-html-components==2.0.0 (from dash)\n",
            "  Downloading dash_html_components-2.0.0-py3-none-any.whl.metadata (3.8 kB)\n",
            "Collecting dash-core-components==2.0.0 (from dash)\n",
            "  Downloading dash_core_components-2.0.0-py3-none-any.whl.metadata (2.9 kB)\n",
            "Collecting dash-table==5.0.0 (from dash)\n",
            "  Downloading dash_table-5.0.0-py3-none-any.whl.metadata (2.4 kB)\n",
            "Requirement already satisfied: importlib-metadata in /usr/local/lib/python3.10/dist-packages (from dash) (8.4.0)\n",
            "Requirement already satisfied: typing-extensions>=4.1.1 in /usr/local/lib/python3.10/dist-packages (from dash) (4.12.2)\n",
            "Requirement already satisfied: requests in /usr/local/lib/python3.10/dist-packages (from dash) (2.32.3)\n",
            "Collecting retrying (from dash)\n",
            "  Downloading retrying-1.3.4-py3-none-any.whl.metadata (6.9 kB)\n",
            "Requirement already satisfied: nest-asyncio in /usr/local/lib/python3.10/dist-packages (from dash) (1.6.0)\n",
            "Requirement already satisfied: setuptools in /usr/local/lib/python3.10/dist-packages (from dash) (71.0.4)\n",
            "Requirement already satisfied: Jinja2>=3.0 in /usr/local/lib/python3.10/dist-packages (from Flask<3.1,>=1.0.4->dash) (3.1.4)\n",
            "Requirement already satisfied: itsdangerous>=2.0 in /usr/local/lib/python3.10/dist-packages (from Flask<3.1,>=1.0.4->dash) (2.2.0)\n",
            "Requirement already satisfied: click>=8.0 in /usr/local/lib/python3.10/dist-packages (from Flask<3.1,>=1.0.4->dash) (8.1.7)\n",
            "Requirement already satisfied: tenacity>=6.2.0 in /usr/local/lib/python3.10/dist-packages (from plotly>=5.0.0->dash) (9.0.0)\n",
            "Requirement already satisfied: packaging in /usr/local/lib/python3.10/dist-packages (from plotly>=5.0.0->dash) (24.1)\n",
            "Requirement already satisfied: MarkupSafe>=2.1.1 in /usr/local/lib/python3.10/dist-packages (from Werkzeug<3.1->dash) (2.1.5)\n",
            "Requirement already satisfied: zipp>=0.5 in /usr/local/lib/python3.10/dist-packages (from importlib-metadata->dash) (3.20.1)\n",
            "Requirement already satisfied: charset-normalizer<4,>=2 in /usr/local/lib/python3.10/dist-packages (from requests->dash) (3.3.2)\n",
            "Requirement already satisfied: idna<4,>=2.5 in /usr/local/lib/python3.10/dist-packages (from requests->dash) (3.8)\n",
            "Requirement already satisfied: urllib3<3,>=1.21.1 in /usr/local/lib/python3.10/dist-packages (from requests->dash) (2.0.7)\n",
            "Requirement already satisfied: certifi>=2017.4.17 in /usr/local/lib/python3.10/dist-packages (from requests->dash) (2024.8.30)\n",
            "Requirement already satisfied: six>=1.7.0 in /usr/local/lib/python3.10/dist-packages (from retrying->dash) (1.16.0)\n",
            "Downloading dash-2.18.0-py3-none-any.whl (7.5 MB)\n",
            "\u001b[2K   \u001b[90m━━━━━━━━━━━━━━━━━━━━━━━━━━━━━━━━━━━━━━━━\u001b[0m \u001b[32m7.5/7.5 MB\u001b[0m \u001b[31m35.0 MB/s\u001b[0m eta \u001b[36m0:00:00\u001b[0m\n",
            "\u001b[?25hDownloading dash_core_components-2.0.0-py3-none-any.whl (3.8 kB)\n",
            "Downloading dash_html_components-2.0.0-py3-none-any.whl (4.1 kB)\n",
            "Downloading dash_table-5.0.0-py3-none-any.whl (3.9 kB)\n",
            "Downloading retrying-1.3.4-py3-none-any.whl (11 kB)\n",
            "Installing collected packages: dash-table, dash-html-components, dash-core-components, retrying, dash\n",
            "Successfully installed dash-2.18.0 dash-core-components-2.0.0 dash-html-components-2.0.0 dash-table-5.0.0 retrying-1.3.4\n",
            "Requirement already satisfied: dash-core-components in /usr/local/lib/python3.10/dist-packages (2.0.0)\n",
            "Requirement already satisfied: dash-html-components in /usr/local/lib/python3.10/dist-packages (2.0.0)\n",
            "Collecting dash-daq\n",
            "  Downloading dash_daq-0.5.0.tar.gz (642 kB)\n",
            "\u001b[2K     \u001b[90m━━━━━━━━━━━━━━━━━━━━━━━━━━━━━━━━━━━━━━━━\u001b[0m \u001b[32m642.7/642.7 kB\u001b[0m \u001b[31m8.9 MB/s\u001b[0m eta \u001b[36m0:00:00\u001b[0m\n",
            "\u001b[?25h  Preparing metadata (setup.py) ... \u001b[?25l\u001b[?25hdone\n",
            "Requirement already satisfied: dash>=1.6.1 in /usr/local/lib/python3.10/dist-packages (from dash-daq) (2.18.0)\n",
            "Requirement already satisfied: Flask<3.1,>=1.0.4 in /usr/local/lib/python3.10/dist-packages (from dash>=1.6.1->dash-daq) (2.2.5)\n",
            "Requirement already satisfied: Werkzeug<3.1 in /usr/local/lib/python3.10/dist-packages (from dash>=1.6.1->dash-daq) (3.0.4)\n",
            "Requirement already satisfied: plotly>=5.0.0 in /usr/local/lib/python3.10/dist-packages (from dash>=1.6.1->dash-daq) (5.15.0)\n",
            "Requirement already satisfied: dash-html-components==2.0.0 in /usr/local/lib/python3.10/dist-packages (from dash>=1.6.1->dash-daq) (2.0.0)\n",
            "Requirement already satisfied: dash-core-components==2.0.0 in /usr/local/lib/python3.10/dist-packages (from dash>=1.6.1->dash-daq) (2.0.0)\n",
            "Requirement already satisfied: dash-table==5.0.0 in /usr/local/lib/python3.10/dist-packages (from dash>=1.6.1->dash-daq) (5.0.0)\n",
            "Requirement already satisfied: importlib-metadata in /usr/local/lib/python3.10/dist-packages (from dash>=1.6.1->dash-daq) (8.4.0)\n",
            "Requirement already satisfied: typing-extensions>=4.1.1 in /usr/local/lib/python3.10/dist-packages (from dash>=1.6.1->dash-daq) (4.12.2)\n",
            "Requirement already satisfied: requests in /usr/local/lib/python3.10/dist-packages (from dash>=1.6.1->dash-daq) (2.32.3)\n",
            "Requirement already satisfied: retrying in /usr/local/lib/python3.10/dist-packages (from dash>=1.6.1->dash-daq) (1.3.4)\n",
            "Requirement already satisfied: nest-asyncio in /usr/local/lib/python3.10/dist-packages (from dash>=1.6.1->dash-daq) (1.6.0)\n",
            "Requirement already satisfied: setuptools in /usr/local/lib/python3.10/dist-packages (from dash>=1.6.1->dash-daq) (71.0.4)\n",
            "Requirement already satisfied: Jinja2>=3.0 in /usr/local/lib/python3.10/dist-packages (from Flask<3.1,>=1.0.4->dash>=1.6.1->dash-daq) (3.1.4)\n",
            "Requirement already satisfied: itsdangerous>=2.0 in /usr/local/lib/python3.10/dist-packages (from Flask<3.1,>=1.0.4->dash>=1.6.1->dash-daq) (2.2.0)\n",
            "Requirement already satisfied: click>=8.0 in /usr/local/lib/python3.10/dist-packages (from Flask<3.1,>=1.0.4->dash>=1.6.1->dash-daq) (8.1.7)\n",
            "Requirement already satisfied: tenacity>=6.2.0 in /usr/local/lib/python3.10/dist-packages (from plotly>=5.0.0->dash>=1.6.1->dash-daq) (9.0.0)\n",
            "Requirement already satisfied: packaging in /usr/local/lib/python3.10/dist-packages (from plotly>=5.0.0->dash>=1.6.1->dash-daq) (24.1)\n",
            "Requirement already satisfied: MarkupSafe>=2.1.1 in /usr/local/lib/python3.10/dist-packages (from Werkzeug<3.1->dash>=1.6.1->dash-daq) (2.1.5)\n",
            "Requirement already satisfied: zipp>=0.5 in /usr/local/lib/python3.10/dist-packages (from importlib-metadata->dash>=1.6.1->dash-daq) (3.20.1)\n",
            "Requirement already satisfied: charset-normalizer<4,>=2 in /usr/local/lib/python3.10/dist-packages (from requests->dash>=1.6.1->dash-daq) (3.3.2)\n",
            "Requirement already satisfied: idna<4,>=2.5 in /usr/local/lib/python3.10/dist-packages (from requests->dash>=1.6.1->dash-daq) (3.8)\n",
            "Requirement already satisfied: urllib3<3,>=1.21.1 in /usr/local/lib/python3.10/dist-packages (from requests->dash>=1.6.1->dash-daq) (2.0.7)\n",
            "Requirement already satisfied: certifi>=2017.4.17 in /usr/local/lib/python3.10/dist-packages (from requests->dash>=1.6.1->dash-daq) (2024.8.30)\n",
            "Requirement already satisfied: six>=1.7.0 in /usr/local/lib/python3.10/dist-packages (from retrying->dash>=1.6.1->dash-daq) (1.16.0)\n",
            "Building wheels for collected packages: dash-daq\n",
            "  Building wheel for dash-daq (setup.py) ... \u001b[?25l\u001b[?25hdone\n",
            "  Created wheel for dash-daq: filename=dash_daq-0.5.0-py3-none-any.whl size=669693 sha256=9012ac3e00b3e3a5365d132f25ce0dfe274489b9bf6547944286d1720520345a\n",
            "  Stored in directory: /root/.cache/pip/wheels/75/14/1b/208d09d5e239391048bdc167759977b41ba65a3d4063aebf6b\n",
            "Successfully built dash-daq\n",
            "Installing collected packages: dash-daq\n",
            "Successfully installed dash-daq-0.5.0\n",
            "Requirement already satisfied: cvxopt in /usr/local/lib/python3.10/dist-packages (1.3.2)\n"
          ]
        }
      ],
      "source": [
        "import pkg_resources\n",
        "import pip\n",
        "installedPackages = {pkg.key for pkg in pkg_resources.working_set}\n",
        "required = {'dash', 'dash-core-components', 'dash-html-components', 'dash-daq', 'cvxopt' }\n",
        "missing = required - installedPackages\n",
        "if missing:\n",
        "    !pip install dash\n",
        "    !pip install dash-core-components\n",
        "    !pip install dash-html-components\n",
        "    !pip install dash-daq\n",
        "    !pip install cvxopt"
      ]
    },
    {
      "cell_type": "code",
      "source": [
        "!pip install --upgrade dash"
      ],
      "metadata": {
        "colab": {
          "base_uri": "https://localhost:8080/"
        },
        "id": "21iHFCMhKUep",
        "outputId": "951ce741-fb3f-4004-8da7-3dccb443a2db"
      },
      "execution_count": 2,
      "outputs": [
        {
          "output_type": "stream",
          "name": "stdout",
          "text": [
            "Requirement already satisfied: dash in /usr/local/lib/python3.10/dist-packages (2.18.0)\n",
            "Requirement already satisfied: Flask<3.1,>=1.0.4 in /usr/local/lib/python3.10/dist-packages (from dash) (2.2.5)\n",
            "Requirement already satisfied: Werkzeug<3.1 in /usr/local/lib/python3.10/dist-packages (from dash) (3.0.4)\n",
            "Requirement already satisfied: plotly>=5.0.0 in /usr/local/lib/python3.10/dist-packages (from dash) (5.15.0)\n",
            "Requirement already satisfied: dash-html-components==2.0.0 in /usr/local/lib/python3.10/dist-packages (from dash) (2.0.0)\n",
            "Requirement already satisfied: dash-core-components==2.0.0 in /usr/local/lib/python3.10/dist-packages (from dash) (2.0.0)\n",
            "Requirement already satisfied: dash-table==5.0.0 in /usr/local/lib/python3.10/dist-packages (from dash) (5.0.0)\n",
            "Requirement already satisfied: importlib-metadata in /usr/local/lib/python3.10/dist-packages (from dash) (8.4.0)\n",
            "Requirement already satisfied: typing-extensions>=4.1.1 in /usr/local/lib/python3.10/dist-packages (from dash) (4.12.2)\n",
            "Requirement already satisfied: requests in /usr/local/lib/python3.10/dist-packages (from dash) (2.32.3)\n",
            "Requirement already satisfied: retrying in /usr/local/lib/python3.10/dist-packages (from dash) (1.3.4)\n",
            "Requirement already satisfied: nest-asyncio in /usr/local/lib/python3.10/dist-packages (from dash) (1.6.0)\n",
            "Requirement already satisfied: setuptools in /usr/local/lib/python3.10/dist-packages (from dash) (71.0.4)\n",
            "Requirement already satisfied: Jinja2>=3.0 in /usr/local/lib/python3.10/dist-packages (from Flask<3.1,>=1.0.4->dash) (3.1.4)\n",
            "Requirement already satisfied: itsdangerous>=2.0 in /usr/local/lib/python3.10/dist-packages (from Flask<3.1,>=1.0.4->dash) (2.2.0)\n",
            "Requirement already satisfied: click>=8.0 in /usr/local/lib/python3.10/dist-packages (from Flask<3.1,>=1.0.4->dash) (8.1.7)\n",
            "Requirement already satisfied: tenacity>=6.2.0 in /usr/local/lib/python3.10/dist-packages (from plotly>=5.0.0->dash) (9.0.0)\n",
            "Requirement already satisfied: packaging in /usr/local/lib/python3.10/dist-packages (from plotly>=5.0.0->dash) (24.1)\n",
            "Requirement already satisfied: MarkupSafe>=2.1.1 in /usr/local/lib/python3.10/dist-packages (from Werkzeug<3.1->dash) (2.1.5)\n",
            "Requirement already satisfied: zipp>=0.5 in /usr/local/lib/python3.10/dist-packages (from importlib-metadata->dash) (3.20.1)\n",
            "Requirement already satisfied: charset-normalizer<4,>=2 in /usr/local/lib/python3.10/dist-packages (from requests->dash) (3.3.2)\n",
            "Requirement already satisfied: idna<4,>=2.5 in /usr/local/lib/python3.10/dist-packages (from requests->dash) (3.8)\n",
            "Requirement already satisfied: urllib3<3,>=1.21.1 in /usr/local/lib/python3.10/dist-packages (from requests->dash) (2.0.7)\n",
            "Requirement already satisfied: certifi>=2017.4.17 in /usr/local/lib/python3.10/dist-packages (from requests->dash) (2024.8.30)\n",
            "Requirement already satisfied: six>=1.7.0 in /usr/local/lib/python3.10/dist-packages (from retrying->dash) (1.16.0)\n"
          ]
        }
      ]
    },
    {
      "cell_type": "code",
      "source": [
        "!pip install --upgrade Werkzeug"
      ],
      "metadata": {
        "colab": {
          "base_uri": "https://localhost:8080/"
        },
        "id": "3Xwdltl3KYE0",
        "outputId": "c82ee8a3-c74d-4d1a-e8ff-15b8fe5b5e2a"
      },
      "execution_count": 3,
      "outputs": [
        {
          "output_type": "stream",
          "name": "stdout",
          "text": [
            "Requirement already satisfied: Werkzeug in /usr/local/lib/python3.10/dist-packages (3.0.4)\n",
            "Requirement already satisfied: MarkupSafe>=2.1.1 in /usr/local/lib/python3.10/dist-packages (from Werkzeug) (2.1.5)\n"
          ]
        }
      ]
    },
    {
      "cell_type": "code",
      "source": [
        "import dash\n",
        "from dash import dcc\n",
        "from dash import html\n",
        "from dash.dependencies import Input,Output,State\n",
        "import pandas as pd\n",
        "import numpy as np\n",
        "import plotly.graph_objs as go\n",
        "import dash_daq as daq\n",
        "from pickle import load"
      ],
      "metadata": {
        "id": "dSq1Gy76KblP"
      },
      "execution_count": 4,
      "outputs": []
    },
    {
      "cell_type": "code",
      "source": [
        "import cvxopt as opt"
      ],
      "metadata": {
        "id": "aRr1OOTiKecA"
      },
      "execution_count": 5,
      "outputs": []
    },
    {
      "cell_type": "markdown",
      "source": [
        "**Load the Data**"
      ],
      "metadata": {
        "id": "XN8ZPVKqK9tO"
      }
    },
    {
      "cell_type": "code",
      "source": [
        "investors = pd.read_csv('InputData.csv', index_col = 0 )\n",
        "investors.head(1)"
      ],
      "metadata": {
        "colab": {
          "base_uri": "https://localhost:8080/",
          "height": 81
        },
        "id": "G8pf3EFaKgpO",
        "outputId": "f5dd520e-b43f-48bc-c0f1-43c56025fd9a"
      },
      "execution_count": 6,
      "outputs": [
        {
          "output_type": "execute_result",
          "data": {
            "text/plain": [
              "   AGE07  EDCL07  MARRIED07  KIDS07  LIFECL07  OCCAT107      INCOME07  RISK07  \\\n",
              "0     47       2          1       0         2         1  56443.744181       3   \n",
              "\n",
              "   WSAVED07  SPENDMOR07   NETWORTH07  TrueRiskTol  \n",
              "0         1           5  352641.7113     6.947439  "
            ],
            "text/html": [
              "\n",
              "  <div id=\"df-ed7aabce-959b-4208-afcb-dc2f191febd0\" class=\"colab-df-container\">\n",
              "    <div>\n",
              "<style scoped>\n",
              "    .dataframe tbody tr th:only-of-type {\n",
              "        vertical-align: middle;\n",
              "    }\n",
              "\n",
              "    .dataframe tbody tr th {\n",
              "        vertical-align: top;\n",
              "    }\n",
              "\n",
              "    .dataframe thead th {\n",
              "        text-align: right;\n",
              "    }\n",
              "</style>\n",
              "<table border=\"1\" class=\"dataframe\">\n",
              "  <thead>\n",
              "    <tr style=\"text-align: right;\">\n",
              "      <th></th>\n",
              "      <th>AGE07</th>\n",
              "      <th>EDCL07</th>\n",
              "      <th>MARRIED07</th>\n",
              "      <th>KIDS07</th>\n",
              "      <th>LIFECL07</th>\n",
              "      <th>OCCAT107</th>\n",
              "      <th>INCOME07</th>\n",
              "      <th>RISK07</th>\n",
              "      <th>WSAVED07</th>\n",
              "      <th>SPENDMOR07</th>\n",
              "      <th>NETWORTH07</th>\n",
              "      <th>TrueRiskTol</th>\n",
              "    </tr>\n",
              "  </thead>\n",
              "  <tbody>\n",
              "    <tr>\n",
              "      <th>0</th>\n",
              "      <td>47</td>\n",
              "      <td>2</td>\n",
              "      <td>1</td>\n",
              "      <td>0</td>\n",
              "      <td>2</td>\n",
              "      <td>1</td>\n",
              "      <td>56443.744181</td>\n",
              "      <td>3</td>\n",
              "      <td>1</td>\n",
              "      <td>5</td>\n",
              "      <td>352641.7113</td>\n",
              "      <td>6.947439</td>\n",
              "    </tr>\n",
              "  </tbody>\n",
              "</table>\n",
              "</div>\n",
              "    <div class=\"colab-df-buttons\">\n",
              "\n",
              "  <div class=\"colab-df-container\">\n",
              "    <button class=\"colab-df-convert\" onclick=\"convertToInteractive('df-ed7aabce-959b-4208-afcb-dc2f191febd0')\"\n",
              "            title=\"Convert this dataframe to an interactive table.\"\n",
              "            style=\"display:none;\">\n",
              "\n",
              "  <svg xmlns=\"http://www.w3.org/2000/svg\" height=\"24px\" viewBox=\"0 -960 960 960\">\n",
              "    <path d=\"M120-120v-720h720v720H120Zm60-500h600v-160H180v160Zm220 220h160v-160H400v160Zm0 220h160v-160H400v160ZM180-400h160v-160H180v160Zm440 0h160v-160H620v160ZM180-180h160v-160H180v160Zm440 0h160v-160H620v160Z\"/>\n",
              "  </svg>\n",
              "    </button>\n",
              "\n",
              "  <style>\n",
              "    .colab-df-container {\n",
              "      display:flex;\n",
              "      gap: 12px;\n",
              "    }\n",
              "\n",
              "    .colab-df-convert {\n",
              "      background-color: #E8F0FE;\n",
              "      border: none;\n",
              "      border-radius: 50%;\n",
              "      cursor: pointer;\n",
              "      display: none;\n",
              "      fill: #1967D2;\n",
              "      height: 32px;\n",
              "      padding: 0 0 0 0;\n",
              "      width: 32px;\n",
              "    }\n",
              "\n",
              "    .colab-df-convert:hover {\n",
              "      background-color: #E2EBFA;\n",
              "      box-shadow: 0px 1px 2px rgba(60, 64, 67, 0.3), 0px 1px 3px 1px rgba(60, 64, 67, 0.15);\n",
              "      fill: #174EA6;\n",
              "    }\n",
              "\n",
              "    .colab-df-buttons div {\n",
              "      margin-bottom: 4px;\n",
              "    }\n",
              "\n",
              "    [theme=dark] .colab-df-convert {\n",
              "      background-color: #3B4455;\n",
              "      fill: #D2E3FC;\n",
              "    }\n",
              "\n",
              "    [theme=dark] .colab-df-convert:hover {\n",
              "      background-color: #434B5C;\n",
              "      box-shadow: 0px 1px 3px 1px rgba(0, 0, 0, 0.15);\n",
              "      filter: drop-shadow(0px 1px 2px rgba(0, 0, 0, 0.3));\n",
              "      fill: #FFFFFF;\n",
              "    }\n",
              "  </style>\n",
              "\n",
              "    <script>\n",
              "      const buttonEl =\n",
              "        document.querySelector('#df-ed7aabce-959b-4208-afcb-dc2f191febd0 button.colab-df-convert');\n",
              "      buttonEl.style.display =\n",
              "        google.colab.kernel.accessAllowed ? 'block' : 'none';\n",
              "\n",
              "      async function convertToInteractive(key) {\n",
              "        const element = document.querySelector('#df-ed7aabce-959b-4208-afcb-dc2f191febd0');\n",
              "        const dataTable =\n",
              "          await google.colab.kernel.invokeFunction('convertToInteractive',\n",
              "                                                    [key], {});\n",
              "        if (!dataTable) return;\n",
              "\n",
              "        const docLinkHtml = 'Like what you see? Visit the ' +\n",
              "          '<a target=\"_blank\" href=https://colab.research.google.com/notebooks/data_table.ipynb>data table notebook</a>'\n",
              "          + ' to learn more about interactive tables.';\n",
              "        element.innerHTML = '';\n",
              "        dataTable['output_type'] = 'display_data';\n",
              "        await google.colab.output.renderOutput(dataTable, element);\n",
              "        const docLink = document.createElement('div');\n",
              "        docLink.innerHTML = docLinkHtml;\n",
              "        element.appendChild(docLink);\n",
              "      }\n",
              "    </script>\n",
              "  </div>\n",
              "\n",
              "\n",
              "    </div>\n",
              "  </div>\n"
            ],
            "application/vnd.google.colaboratory.intrinsic+json": {
              "type": "dataframe",
              "variable_name": "investors",
              "summary": "{\n  \"name\": \"investors\",\n  \"rows\": 4810,\n  \"fields\": [\n    {\n      \"column\": \"AGE07\",\n      \"properties\": {\n        \"dtype\": \"number\",\n        \"std\": 13,\n        \"min\": 22,\n        \"max\": 95,\n        \"num_unique_values\": 69,\n        \"samples\": [\n          72,\n          47,\n          82\n        ],\n        \"semantic_type\": \"\",\n        \"description\": \"\"\n      }\n    },\n    {\n      \"column\": \"EDCL07\",\n      \"properties\": {\n        \"dtype\": \"number\",\n        \"std\": 0,\n        \"min\": 1,\n        \"max\": 4,\n        \"num_unique_values\": 4,\n        \"samples\": [\n          3,\n          1,\n          2\n        ],\n        \"semantic_type\": \"\",\n        \"description\": \"\"\n      }\n    },\n    {\n      \"column\": \"MARRIED07\",\n      \"properties\": {\n        \"dtype\": \"number\",\n        \"std\": 0,\n        \"min\": 1,\n        \"max\": 2,\n        \"num_unique_values\": 2,\n        \"samples\": [\n          2,\n          1\n        ],\n        \"semantic_type\": \"\",\n        \"description\": \"\"\n      }\n    },\n    {\n      \"column\": \"KIDS07\",\n      \"properties\": {\n        \"dtype\": \"number\",\n        \"std\": 1,\n        \"min\": 0,\n        \"max\": 7,\n        \"num_unique_values\": 8,\n        \"samples\": [\n          1,\n          5\n        ],\n        \"semantic_type\": \"\",\n        \"description\": \"\"\n      }\n    },\n    {\n      \"column\": \"LIFECL07\",\n      \"properties\": {\n        \"dtype\": \"number\",\n        \"std\": 1,\n        \"min\": 1,\n        \"max\": 6,\n        \"num_unique_values\": 6,\n        \"samples\": [\n          2,\n          5\n        ],\n        \"semantic_type\": \"\",\n        \"description\": \"\"\n      }\n    },\n    {\n      \"column\": \"OCCAT107\",\n      \"properties\": {\n        \"dtype\": \"number\",\n        \"std\": 0,\n        \"min\": 1,\n        \"max\": 4,\n        \"num_unique_values\": 4,\n        \"samples\": [\n          3,\n          4\n        ],\n        \"semantic_type\": \"\",\n        \"description\": \"\"\n      }\n    },\n    {\n      \"column\": \"INCOME07\",\n      \"properties\": {\n        \"dtype\": \"number\",\n        \"std\": 4990971.569984309,\n        \"min\": 0.0,\n        \"max\": 68382128.563,\n        \"num_unique_values\": 932,\n        \"samples\": [\n          2364247.3978,\n          1118225.1206\n        ],\n        \"semantic_type\": \"\",\n        \"description\": \"\"\n      }\n    },\n    {\n      \"column\": \"RISK07\",\n      \"properties\": {\n        \"dtype\": \"number\",\n        \"std\": 0,\n        \"min\": 1,\n        \"max\": 4,\n        \"num_unique_values\": 4,\n        \"samples\": [\n          2,\n          1\n        ],\n        \"semantic_type\": \"\",\n        \"description\": \"\"\n      }\n    },\n    {\n      \"column\": \"WSAVED07\",\n      \"properties\": {\n        \"dtype\": \"number\",\n        \"std\": 0,\n        \"min\": 1,\n        \"max\": 3,\n        \"num_unique_values\": 3,\n        \"samples\": [\n          1,\n          3\n        ],\n        \"semantic_type\": \"\",\n        \"description\": \"\"\n      }\n    },\n    {\n      \"column\": \"SPENDMOR07\",\n      \"properties\": {\n        \"dtype\": \"number\",\n        \"std\": 1,\n        \"min\": 1,\n        \"max\": 5,\n        \"num_unique_values\": 5,\n        \"samples\": [\n          3,\n          4\n        ],\n        \"semantic_type\": \"\",\n        \"description\": \"\"\n      }\n    },\n    {\n      \"column\": \"NETWORTH07\",\n      \"properties\": {\n        \"dtype\": \"number\",\n        \"std\": 81599613.64004534,\n        \"min\": -5633236.969,\n        \"max\": 1451955540.8,\n        \"num_unique_values\": 3743,\n        \"samples\": [\n          603277.05421,\n          490251.92685\n        ],\n        \"semantic_type\": \"\",\n        \"description\": \"\"\n      }\n    },\n    {\n      \"column\": \"TrueRiskTol\",\n      \"properties\": {\n        \"dtype\": \"number\",\n        \"std\": 15.853115036180187,\n        \"min\": 0.4501123757081319,\n        \"max\": 98.60433006234564,\n        \"num_unique_values\": 3708,\n        \"samples\": [\n          20.500102213952708,\n          1.056366122608564\n        ],\n        \"semantic_type\": \"\",\n        \"description\": \"\"\n      }\n    }\n  ]\n}"
            }
          },
          "metadata": {},
          "execution_count": 6
        }
      ]
    },
    {
      "source": [
        "# @title AGE07\n",
        "\n",
        "from matplotlib import pyplot as plt\n",
        "investors['AGE07'].plot(kind='hist', bins=20, title='AGE07')\n",
        "plt.gca().spines[['top', 'right',]].set_visible(False)"
      ],
      "cell_type": "code",
      "execution_count": 7,
      "outputs": [
        {
          "output_type": "display_data",
          "data": {
            "text/plain": [
              "<Figure size 640x480 with 1 Axes>"
            ],
            "image/png": "[encoded data removed]"
          },
          "metadata": {}
        }
      ],
      "metadata": {
        "cellView": "form",
        "colab": {
          "base_uri": "https://localhost:8080/",
          "height": 452
        },
        "id": "dr_yy6WxK47M",
        "outputId": "594dd9f3-2db3-4624-d504-16c509b48a05"
      }
    },
    {
      "cell_type": "markdown",
      "source": [
        "**Load the market data and clean it**"
      ],
      "metadata": {
        "id": "hNLZDRoNLFBJ"
      }
    },
    {
      "cell_type": "code",
      "source": [
        "assets = pd.read_csv('SP500Data.csv', index_col=0)\n",
        "missing_fractions = assets.isnull().mean().sort_values(ascending=False)\n",
        "print(missing_fractions.head(10))\n",
        "drop_list = sorted(list(missing_fractions[missing_fractions > 0.3].index))\n",
        "assets.drop(labels=drop_list, axis=1, inplace=True)\n",
        "print(assets.shape)\n",
        "assets = assets.ffill()\n",
        "print(assets.head(2))"
      ],
      "metadata": {
        "colab": {
          "base_uri": "https://localhost:8080/"
        },
        "id": "lVy5zmTrK6NV",
        "outputId": "4a585372-41f2-4d1c-ccc2-881987de1474"
      },
      "execution_count": 8,
      "outputs": [
        {
          "output_type": "stream",
          "name": "stdout",
          "text": [
            "CTVA    0.781250\n",
            "DOW     0.678571\n",
            "FOX     0.667411\n",
            "FOXA    0.665179\n",
            "NOV     0.000000\n",
            "MSI     0.000000\n",
            "MSCI    0.000000\n",
            "MYL     0.000000\n",
            "NDAQ    0.000000\n",
            "ABT     0.000000\n",
            "dtype: float64\n",
            "(448, 498)\n",
            "                  ABT       ABBV        ABMD         ACN       ATVI  \\\n",
            "Date                                                                  \n",
            "2018-01-02  58.790001  98.410004  192.490005  153.839996  64.309998   \n",
            "2018-01-03  58.919998  99.949997  195.820007  154.550003  65.309998   \n",
            "\n",
            "                  ADBE    AMD         AAP    AES         AMG  ...        WLTW  \\\n",
            "Date                                                          ...               \n",
            "2018-01-02  177.699997  10.98  106.089996  10.88  203.039993  ...  146.990005   \n",
            "2018-01-03  181.039993  11.55  107.050003  10.87  202.119995  ...  149.740005   \n",
            "\n",
            "                  WYNN        XEL        XRX       XLNX        XYL        YUM  \\\n",
            "Date                                                                            \n",
            "2018-01-02  164.300003  47.810001  29.370001  67.879997  68.070000  81.599998   \n",
            "2018-01-03  162.520004  47.490002  29.330000  69.239998  68.900002  81.529999   \n",
            "\n",
            "                   ZBH       ZION        ZTS  \n",
            "Date                                          \n",
            "2018-01-02  124.059998  50.700001  71.769997  \n",
            "2018-01-03  124.919998  50.639999  72.099998  \n",
            "\n",
            "[2 rows x 498 columns]\n"
          ]
        }
      ]
    },
    {
      "cell_type": "code",
      "source": [
        "options=np.array(assets.columns)\n",
        "options = []\n",
        "for tic in assets.columns:\n",
        "    mydict = {}\n",
        "    mydict['label'] = tic\n",
        "    mydict['value'] = tic\n",
        "    options.append(mydict)"
      ],
      "metadata": {
        "id": "fT55ccRILdQJ"
      },
      "execution_count": 9,
      "outputs": []
    },
    {
      "cell_type": "code",
      "source": [
        "print(mydict)"
      ],
      "metadata": {
        "colab": {
          "base_uri": "https://localhost:8080/"
        },
        "id": "Yn0hVFccLgH_",
        "outputId": "d3c8a7e2-1ad7-4c47-934c-6634dafa4726"
      },
      "execution_count": 10,
      "outputs": [
        {
          "output_type": "stream",
          "name": "stdout",
          "text": [
            "{'label': 'ZTS', 'value': 'ZTS'}\n"
          ]
        }
      ]
    },
    {
      "cell_type": "code",
      "source": [
        "print(options)"
      ],
      "metadata": {
        "colab": {
          "base_uri": "https://localhost:8080/"
        },
        "id": "OojYkWdhLiJO",
        "outputId": "5036a1a5-9147-40c7-dbec-54d6d65add9f"
      },
      "execution_count": 11,
      "outputs": [
        {
          "output_type": "stream",
          "name": "stdout",
          "text": [
            "[{'label': 'ABT', 'value': 'ABT'}, {'label': 'ABBV', 'value': 'ABBV'}, {'label': 'ABMD', 'value': 'ABMD'}, {'label': 'ACN', 'value': 'ACN'}, {'label': 'ATVI', 'value': 'ATVI'}, {'label': 'ADBE', 'value': 'ADBE'}, {'label': 'AMD', 'value': 'AMD'}, {'label': 'AAP', 'value': 'AAP'}, {'label': 'AES', 'value': 'AES'}, {'label': 'AMG', 'value': 'AMG'}, {'label': 'AFL', 'value': 'AFL'}, {'label': 'A', 'value': 'A'}, {'label': 'APD', 'value': 'APD'}, {'label': 'AKAM', 'value': 'AKAM'}, {'label': 'ALK', 'value': 'ALK'}, {'label': 'ALB', 'value': 'ALB'}, {'label': 'ARE', 'value': 'ARE'}, {'label': 'ALXN', 'value': 'ALXN'}, {'label': 'ALGN', 'value': 'ALGN'}, {'label': 'ALLE', 'value': 'ALLE'}, {'label': 'AGN', 'value': 'AGN'}, {'label': 'ADS', 'value': 'ADS'}, {'label': 'LNT', 'value': 'LNT'}, {'label': 'ALL', 'value': 'ALL'}, {'label': 'GOOGL', 'value': 'GOOGL'}, {'label': 'GOOG', 'value': 'GOOG'}, {'label': 'MO', 'value': 'MO'}, {'label': 'AMZN', 'value': 'AMZN'}, {'label': 'AMCR', 'value': 'AMCR'}, {'label': 'AEE', 'value': 'AEE'}, {'label': 'AAL', 'value': 'AAL'}, {'label': 'AEP', 'value': 'AEP'}, {'label': 'AXP', 'value': 'AXP'}, {'label': 'AIG', 'value': 'AIG'}, {'label': 'AMT', 'value': 'AMT'}, {'label': 'AWK', 'value': 'AWK'}, {'label': 'AMP', 'value': 'AMP'}, {'label': 'ABC', 'value': 'ABC'}, {'label': 'AME', 'value': 'AME'}, {'label': 'AMGN', 'value': 'AMGN'}, {'label': 'APH', 'value': 'APH'}, {'label': 'ADI', 'value': 'ADI'}, {'label': 'ANSS', 'value': 'ANSS'}, {'label': 'ANTM', 'value': 'ANTM'}, {'label': 'AON', 'value': 'AON'}, {'label': 'AOS', 'value': 'AOS'}, {'label': 'APA', 'value': 'APA'}, {'label': 'AIV', 'value': 'AIV'}, {'label': 'AAPL', 'value': 'AAPL'}, {'label': 'AMAT', 'value': 'AMAT'}, {'label': 'APTV', 'value': 'APTV'}, {'label': 'ADM', 'value': 'ADM'}, {'label': 'ARNC', 'value': 'ARNC'}, {'label': 'ANET', 'value': 'ANET'}, {'label': 'AJG', 'value': 'AJG'}, {'label': 'AIZ', 'value': 'AIZ'}, {'label': 'ATO', 'value': 'ATO'}, {'label': 'T', 'value': 'T'}, {'label': 'ADSK', 'value': 'ADSK'}, {'label': 'ADP', 'value': 'ADP'}, {'label': 'AZO', 'value': 'AZO'}, {'label': 'AVB', 'value': 'AVB'}, {'label': 'AVY', 'value': 'AVY'}, {'label': 'BHGE', 'value': 'BHGE'}, {'label': 'BLL', 'value': 'BLL'}, {'label': 'BAC', 'value': 'BAC'}, {'label': 'BK', 'value': 'BK'}, {'label': 'BAX', 'value': 'BAX'}, {'label': 'BBT', 'value': 'BBT'}, {'label': 'BDX', 'value': 'BDX'}, {'label': 'BBY', 'value': 'BBY'}, {'label': 'BIIB', 'value': 'BIIB'}, {'label': 'BLK', 'value': 'BLK'}, {'label': 'HRB', 'value': 'HRB'}, {'label': 'BA', 'value': 'BA'}, {'label': 'BKNG', 'value': 'BKNG'}, {'label': 'BWA', 'value': 'BWA'}, {'label': 'BXP', 'value': 'BXP'}, {'label': 'BSX', 'value': 'BSX'}, {'label': 'BMY', 'value': 'BMY'}, {'label': 'AVGO', 'value': 'AVGO'}, {'label': 'BR', 'value': 'BR'}, {'label': 'CHRW', 'value': 'CHRW'}, {'label': 'COG', 'value': 'COG'}, {'label': 'CDNS', 'value': 'CDNS'}, {'label': 'CPB', 'value': 'CPB'}, {'label': 'COF', 'value': 'COF'}, {'label': 'CPRI', 'value': 'CPRI'}, {'label': 'CAH', 'value': 'CAH'}, {'label': 'KMX', 'value': 'KMX'}, {'label': 'CCL', 'value': 'CCL'}, {'label': 'CAT', 'value': 'CAT'}, {'label': 'CBOE', 'value': 'CBOE'}, {'label': 'CBRE', 'value': 'CBRE'}, {'label': 'CBS', 'value': 'CBS'}, {'label': 'CDW', 'value': 'CDW'}, {'label': 'CE', 'value': 'CE'}, {'label': 'CELG', 'value': 'CELG'}, {'label': 'CNC', 'value': 'CNC'}, {'label': 'CNP', 'value': 'CNP'}, {'label': 'CTL', 'value': 'CTL'}, {'label': 'CERN', 'value': 'CERN'}, {'label': 'CF', 'value': 'CF'}, {'label': 'SCHW', 'value': 'SCHW'}, {'label': 'CHTR', 'value': 'CHTR'}, {'label': 'CVX', 'value': 'CVX'}, {'label': 'CMG', 'value': 'CMG'}, {'label': 'CB', 'value': 'CB'}, {'label': 'CHD', 'value': 'CHD'}, {'label': 'CI', 'value': 'CI'}, {'label': 'XEC', 'value': 'XEC'}, {'label': 'CINF', 'value': 'CINF'}, {'label': 'CTAS', 'value': 'CTAS'}, {'label': 'CSCO', 'value': 'CSCO'}, {'label': 'C', 'value': 'C'}, {'label': 'CFG', 'value': 'CFG'}, {'label': 'CTXS', 'value': 'CTXS'}, {'label': 'CLX', 'value': 'CLX'}, {'label': 'CME', 'value': 'CME'}, {'label': 'CMS', 'value': 'CMS'}, {'label': 'KO', 'value': 'KO'}, {'label': 'CTSH', 'value': 'CTSH'}, {'label': 'CL', 'value': 'CL'}, {'label': 'CMCSA', 'value': 'CMCSA'}, {'label': 'CMA', 'value': 'CMA'}, {'label': 'CAG', 'value': 'CAG'}, {'label': 'CXO', 'value': 'CXO'}, {'label': 'COP', 'value': 'COP'}, {'label': 'ED', 'value': 'ED'}, {'label': 'STZ', 'value': 'STZ'}, {'label': 'COO', 'value': 'COO'}, {'label': 'CPRT', 'value': 'CPRT'}, {'label': 'GLW', 'value': 'GLW'}, {'label': 'COST', 'value': 'COST'}, {'label': 'COTY', 'value': 'COTY'}, {'label': 'CCI', 'value': 'CCI'}, {'label': 'CSX', 'value': 'CSX'}, {'label': 'CMI', 'value': 'CMI'}, {'label': 'CVS', 'value': 'CVS'}, {'label': 'DHI', 'value': 'DHI'}, {'label': 'DHR', 'value': 'DHR'}, {'label': 'DRI', 'value': 'DRI'}, {'label': 'DVA', 'value': 'DVA'}, {'label': 'DE', 'value': 'DE'}, {'label': 'DAL', 'value': 'DAL'}, {'label': 'XRAY', 'value': 'XRAY'}, {'label': 'DVN', 'value': 'DVN'}, {'label': 'FANG', 'value': 'FANG'}, {'label': 'DLR', 'value': 'DLR'}, {'label': 'DFS', 'value': 'DFS'}, {'label': 'DISCA', 'value': 'DISCA'}, {'label': 'DISCK', 'value': 'DISCK'}, {'label': 'DISH', 'value': 'DISH'}, {'label': 'DG', 'value': 'DG'}, {'label': 'DLTR', 'value': 'DLTR'}, {'label': 'D', 'value': 'D'}, {'label': 'DOV', 'value': 'DOV'}, {'label': 'DTE', 'value': 'DTE'}, {'label': 'DUK', 'value': 'DUK'}, {'label': 'DRE', 'value': 'DRE'}, {'label': 'DD', 'value': 'DD'}, {'label': 'DXC', 'value': 'DXC'}, {'label': 'ETFC', 'value': 'ETFC'}, {'label': 'EMN', 'value': 'EMN'}, {'label': 'ETN', 'value': 'ETN'}, {'label': 'EBAY', 'value': 'EBAY'}, {'label': 'ECL', 'value': 'ECL'}, {'label': 'EIX', 'value': 'EIX'}, {'label': 'EW', 'value': 'EW'}, {'label': 'EA', 'value': 'EA'}, {'label': 'EMR', 'value': 'EMR'}, {'label': 'ETR', 'value': 'ETR'}, {'label': 'EOG', 'value': 'EOG'}, {'label': 'EFX', 'value': 'EFX'}, {'label': 'EQIX', 'value': 'EQIX'}, {'label': 'EQR', 'value': 'EQR'}, {'label': 'ESS', 'value': 'ESS'}, {'label': 'EL', 'value': 'EL'}, {'label': 'EVRG', 'value': 'EVRG'}, {'label': 'ES', 'value': 'ES'}, {'label': 'RE', 'value': 'RE'}, {'label': 'EXC', 'value': 'EXC'}, {'label': 'EXPE', 'value': 'EXPE'}, {'label': 'EXPD', 'value': 'EXPD'}, {'label': 'EXR', 'value': 'EXR'}, {'label': 'XOM', 'value': 'XOM'}, {'label': 'FFIV', 'value': 'FFIV'}, {'label': 'FB', 'value': 'FB'}, {'label': 'FAST', 'value': 'FAST'}, {'label': 'FRT', 'value': 'FRT'}, {'label': 'FDX', 'value': 'FDX'}, {'label': 'FIS', 'value': 'FIS'}, {'label': 'FITB', 'value': 'FITB'}, {'label': 'FE', 'value': 'FE'}, {'label': 'FRC', 'value': 'FRC'}, {'label': 'FISV', 'value': 'FISV'}, {'label': 'FLT', 'value': 'FLT'}, {'label': 'FLIR', 'value': 'FLIR'}, {'label': 'FLS', 'value': 'FLS'}, {'label': 'FMC', 'value': 'FMC'}, {'label': 'F', 'value': 'F'}, {'label': 'FTNT', 'value': 'FTNT'}, {'label': 'FTV', 'value': 'FTV'}, {'label': 'FBHS', 'value': 'FBHS'}, {'label': 'BEN', 'value': 'BEN'}, {'label': 'FCX', 'value': 'FCX'}, {'label': 'GPS', 'value': 'GPS'}, {'label': 'GRMN', 'value': 'GRMN'}, {'label': 'IT', 'value': 'IT'}, {'label': 'GD', 'value': 'GD'}, {'label': 'GE', 'value': 'GE'}, {'label': 'GIS', 'value': 'GIS'}, {'label': 'GM', 'value': 'GM'}, {'label': 'GPC', 'value': 'GPC'}, {'label': 'GILD', 'value': 'GILD'}, {'label': 'GL', 'value': 'GL'}, {'label': 'GPN', 'value': 'GPN'}, {'label': 'GS', 'value': 'GS'}, {'label': 'GWW', 'value': 'GWW'}, {'label': 'HAL', 'value': 'HAL'}, {'label': 'HBI', 'value': 'HBI'}, {'label': 'HOG', 'value': 'HOG'}, {'label': 'HIG', 'value': 'HIG'}, {'label': 'HAS', 'value': 'HAS'}, {'label': 'HCA', 'value': 'HCA'}, {'label': 'HCP', 'value': 'HCP'}, {'label': 'HP', 'value': 'HP'}, {'label': 'HSIC', 'value': 'HSIC'}, {'label': 'HSY', 'value': 'HSY'}, {'label': 'HES', 'value': 'HES'}, {'label': 'HPE', 'value': 'HPE'}, {'label': 'HLT', 'value': 'HLT'}, {'label': 'HFC', 'value': 'HFC'}, {'label': 'HOLX', 'value': 'HOLX'}, {'label': 'HD', 'value': 'HD'}, {'label': 'HON', 'value': 'HON'}, {'label': 'HRL', 'value': 'HRL'}, {'label': 'HST', 'value': 'HST'}, {'label': 'HPQ', 'value': 'HPQ'}, {'label': 'HUM', 'value': 'HUM'}, {'label': 'HBAN', 'value': 'HBAN'}, {'label': 'HII', 'value': 'HII'}, {'label': 'IEX', 'value': 'IEX'}, {'label': 'IDXX', 'value': 'IDXX'}, {'label': 'INFO', 'value': 'INFO'}, {'label': 'ITW', 'value': 'ITW'}, {'label': 'ILMN', 'value': 'ILMN'}, {'label': 'IR', 'value': 'IR'}, {'label': 'INTC', 'value': 'INTC'}, {'label': 'ICE', 'value': 'ICE'}, {'label': 'IBM', 'value': 'IBM'}, {'label': 'INCY', 'value': 'INCY'}, {'label': 'IP', 'value': 'IP'}, {'label': 'IPG', 'value': 'IPG'}, {'label': 'IFF', 'value': 'IFF'}, {'label': 'INTU', 'value': 'INTU'}, {'label': 'ISRG', 'value': 'ISRG'}, {'label': 'IVZ', 'value': 'IVZ'}, {'label': 'IPGP', 'value': 'IPGP'}, {'label': 'IQV', 'value': 'IQV'}, {'label': 'IRM', 'value': 'IRM'}, {'label': 'JKHY', 'value': 'JKHY'}, {'label': 'JEC', 'value': 'JEC'}, {'label': 'JBHT', 'value': 'JBHT'}, {'label': 'SJM', 'value': 'SJM'}, {'label': 'JNJ', 'value': 'JNJ'}, {'label': 'JCI', 'value': 'JCI'}, {'label': 'JPM', 'value': 'JPM'}, {'label': 'JNPR', 'value': 'JNPR'}, {'label': 'KSU', 'value': 'KSU'}, {'label': 'K', 'value': 'K'}, {'label': 'KEY', 'value': 'KEY'}, {'label': 'KEYS', 'value': 'KEYS'}, {'label': 'KMB', 'value': 'KMB'}, {'label': 'KIM', 'value': 'KIM'}, {'label': 'KMI', 'value': 'KMI'}, {'label': 'KLAC', 'value': 'KLAC'}, {'label': 'KSS', 'value': 'KSS'}, {'label': 'KHC', 'value': 'KHC'}, {'label': 'KR', 'value': 'KR'}, {'label': 'LB', 'value': 'LB'}, {'label': 'LHX', 'value': 'LHX'}, {'label': 'LH', 'value': 'LH'}, {'label': 'LRCX', 'value': 'LRCX'}, {'label': 'LW', 'value': 'LW'}, {'label': 'LVS', 'value': 'LVS'}, {'label': 'LEG', 'value': 'LEG'}, {'label': 'LDOS', 'value': 'LDOS'}, {'label': 'LEN', 'value': 'LEN'}, {'label': 'LLY', 'value': 'LLY'}, {'label': 'LNC', 'value': 'LNC'}, {'label': 'LIN', 'value': 'LIN'}, {'label': 'LKQ', 'value': 'LKQ'}, {'label': 'LMT', 'value': 'LMT'}, {'label': 'L', 'value': 'L'}, {'label': 'LOW', 'value': 'LOW'}, {'label': 'LYB', 'value': 'LYB'}, {'label': 'MTB', 'value': 'MTB'}, {'label': 'MAC', 'value': 'MAC'}, {'label': 'M', 'value': 'M'}, {'label': 'MRO', 'value': 'MRO'}, {'label': 'MPC', 'value': 'MPC'}, {'label': 'MKTX', 'value': 'MKTX'}, {'label': 'MAR', 'value': 'MAR'}, {'label': 'MMC', 'value': 'MMC'}, {'label': 'MLM', 'value': 'MLM'}, {'label': 'MAS', 'value': 'MAS'}, {'label': 'MA', 'value': 'MA'}, {'label': 'MKC', 'value': 'MKC'}, {'label': 'MXIM', 'value': 'MXIM'}, {'label': 'MCD', 'value': 'MCD'}, {'label': 'MCK', 'value': 'MCK'}, {'label': 'MDT', 'value': 'MDT'}, {'label': 'MRK', 'value': 'MRK'}, {'label': 'MET', 'value': 'MET'}, {'label': 'MTD', 'value': 'MTD'}, {'label': 'MGM', 'value': 'MGM'}, {'label': 'MCHP', 'value': 'MCHP'}, {'label': 'MU', 'value': 'MU'}, {'label': 'MSFT', 'value': 'MSFT'}, {'label': 'MAA', 'value': 'MAA'}, {'label': 'MHK', 'value': 'MHK'}, {'label': 'TAP', 'value': 'TAP'}, {'label': 'MDLZ', 'value': 'MDLZ'}, {'label': 'MNST', 'value': 'MNST'}, {'label': 'MCO', 'value': 'MCO'}, {'label': 'MS', 'value': 'MS'}, {'label': 'MOS', 'value': 'MOS'}, {'label': 'MSI', 'value': 'MSI'}, {'label': 'MSCI', 'value': 'MSCI'}, {'label': 'MYL', 'value': 'MYL'}, {'label': 'NDAQ', 'value': 'NDAQ'}, {'label': 'NOV', 'value': 'NOV'}, {'label': 'NTAP', 'value': 'NTAP'}, {'label': 'NFLX', 'value': 'NFLX'}, {'label': 'NWL', 'value': 'NWL'}, {'label': 'NEM', 'value': 'NEM'}, {'label': 'NWSA', 'value': 'NWSA'}, {'label': 'NWS', 'value': 'NWS'}, {'label': 'NEE', 'value': 'NEE'}, {'label': 'NLSN', 'value': 'NLSN'}, {'label': 'NKE', 'value': 'NKE'}, {'label': 'NI', 'value': 'NI'}, {'label': 'NBL', 'value': 'NBL'}, {'label': 'JWN', 'value': 'JWN'}, {'label': 'NSC', 'value': 'NSC'}, {'label': 'NTRS', 'value': 'NTRS'}, {'label': 'NOC', 'value': 'NOC'}, {'label': 'NCLH', 'value': 'NCLH'}, {'label': 'NRG', 'value': 'NRG'}, {'label': 'NUE', 'value': 'NUE'}, {'label': 'NVDA', 'value': 'NVDA'}, {'label': 'NVR', 'value': 'NVR'}, {'label': 'ORLY', 'value': 'ORLY'}, {'label': 'OXY', 'value': 'OXY'}, {'label': 'OMC', 'value': 'OMC'}, {'label': 'OKE', 'value': 'OKE'}, {'label': 'ORCL', 'value': 'ORCL'}, {'label': 'PCAR', 'value': 'PCAR'}, {'label': 'PKG', 'value': 'PKG'}, {'label': 'PH', 'value': 'PH'}, {'label': 'PAYX', 'value': 'PAYX'}, {'label': 'PYPL', 'value': 'PYPL'}, {'label': 'PNR', 'value': 'PNR'}, {'label': 'PBCT', 'value': 'PBCT'}, {'label': 'PEP', 'value': 'PEP'}, {'label': 'PKI', 'value': 'PKI'}, {'label': 'PRGO', 'value': 'PRGO'}, {'label': 'PFE', 'value': 'PFE'}, {'label': 'PM', 'value': 'PM'}, {'label': 'PSX', 'value': 'PSX'}, {'label': 'PNW', 'value': 'PNW'}, {'label': 'PXD', 'value': 'PXD'}, {'label': 'PNC', 'value': 'PNC'}, {'label': 'PPG', 'value': 'PPG'}, {'label': 'PPL', 'value': 'PPL'}, {'label': 'PFG', 'value': 'PFG'}, {'label': 'PG', 'value': 'PG'}, {'label': 'PGR', 'value': 'PGR'}, {'label': 'PLD', 'value': 'PLD'}, {'label': 'PRU', 'value': 'PRU'}, {'label': 'PEG', 'value': 'PEG'}, {'label': 'PSA', 'value': 'PSA'}, {'label': 'PHM', 'value': 'PHM'}, {'label': 'PVH', 'value': 'PVH'}, {'label': 'QRVO', 'value': 'QRVO'}, {'label': 'PWR', 'value': 'PWR'}, {'label': 'QCOM', 'value': 'QCOM'}, {'label': 'DGX', 'value': 'DGX'}, {'label': 'RL', 'value': 'RL'}, {'label': 'RJF', 'value': 'RJF'}, {'label': 'RTN', 'value': 'RTN'}, {'label': 'O', 'value': 'O'}, {'label': 'REG', 'value': 'REG'}, {'label': 'REGN', 'value': 'REGN'}, {'label': 'RF', 'value': 'RF'}, {'label': 'RSG', 'value': 'RSG'}, {'label': 'RMD', 'value': 'RMD'}, {'label': 'RHI', 'value': 'RHI'}, {'label': 'ROK', 'value': 'ROK'}, {'label': 'ROL', 'value': 'ROL'}, {'label': 'ROP', 'value': 'ROP'}, {'label': 'ROST', 'value': 'ROST'}, {'label': 'RCL', 'value': 'RCL'}, {'label': 'CRM', 'value': 'CRM'}, {'label': 'SBAC', 'value': 'SBAC'}, {'label': 'SLB', 'value': 'SLB'}, {'label': 'STX', 'value': 'STX'}, {'label': 'SEE', 'value': 'SEE'}, {'label': 'SRE', 'value': 'SRE'}, {'label': 'SHW', 'value': 'SHW'}, {'label': 'SPG', 'value': 'SPG'}, {'label': 'SWKS', 'value': 'SWKS'}, {'label': 'SLG', 'value': 'SLG'}, {'label': 'SNA', 'value': 'SNA'}, {'label': 'SO', 'value': 'SO'}, {'label': 'LUV', 'value': 'LUV'}, {'label': 'SPGI', 'value': 'SPGI'}, {'label': 'SWK', 'value': 'SWK'}, {'label': 'SBUX', 'value': 'SBUX'}, {'label': 'STT', 'value': 'STT'}, {'label': 'SYK', 'value': 'SYK'}, {'label': 'STI', 'value': 'STI'}, {'label': 'SIVB', 'value': 'SIVB'}, {'label': 'SYMC', 'value': 'SYMC'}, {'label': 'SYF', 'value': 'SYF'}, {'label': 'SNPS', 'value': 'SNPS'}, {'label': 'SYY', 'value': 'SYY'}, {'label': 'TMUS', 'value': 'TMUS'}, {'label': 'TROW', 'value': 'TROW'}, {'label': 'TTWO', 'value': 'TTWO'}, {'label': 'TPR', 'value': 'TPR'}, {'label': 'TGT', 'value': 'TGT'}, {'label': 'TEL', 'value': 'TEL'}, {'label': 'FTI', 'value': 'FTI'}, {'label': 'TFX', 'value': 'TFX'}, {'label': 'TXN', 'value': 'TXN'}, {'label': 'TXT', 'value': 'TXT'}, {'label': 'TMO', 'value': 'TMO'}, {'label': 'TIF', 'value': 'TIF'}, {'label': 'TWTR', 'value': 'TWTR'}, {'label': 'TJX', 'value': 'TJX'}, {'label': 'TSCO', 'value': 'TSCO'}, {'label': 'TDG', 'value': 'TDG'}, {'label': 'TRV', 'value': 'TRV'}, {'label': 'TRIP', 'value': 'TRIP'}, {'label': 'TSN', 'value': 'TSN'}, {'label': 'UDR', 'value': 'UDR'}, {'label': 'ULTA', 'value': 'ULTA'}, {'label': 'USB', 'value': 'USB'}, {'label': 'UAA', 'value': 'UAA'}, {'label': 'UA', 'value': 'UA'}, {'label': 'UNP', 'value': 'UNP'}, {'label': 'UAL', 'value': 'UAL'}, {'label': 'UNH', 'value': 'UNH'}, {'label': 'UPS', 'value': 'UPS'}, {'label': 'URI', 'value': 'URI'}, {'label': 'UTX', 'value': 'UTX'}, {'label': 'UHS', 'value': 'UHS'}, {'label': 'UNM', 'value': 'UNM'}, {'label': 'VFC', 'value': 'VFC'}, {'label': 'VLO', 'value': 'VLO'}, {'label': 'VAR', 'value': 'VAR'}, {'label': 'VTR', 'value': 'VTR'}, {'label': 'VRSN', 'value': 'VRSN'}, {'label': 'VRSK', 'value': 'VRSK'}, {'label': 'VZ', 'value': 'VZ'}, {'label': 'VRTX', 'value': 'VRTX'}, {'label': 'VIAB', 'value': 'VIAB'}, {'label': 'V', 'value': 'V'}, {'label': 'VNO', 'value': 'VNO'}, {'label': 'VMC', 'value': 'VMC'}, {'label': 'WAB', 'value': 'WAB'}, {'label': 'WMT', 'value': 'WMT'}, {'label': 'WBA', 'value': 'WBA'}, {'label': 'DIS', 'value': 'DIS'}, {'label': 'WM', 'value': 'WM'}, {'label': 'WAT', 'value': 'WAT'}, {'label': 'WEC', 'value': 'WEC'}, {'label': 'WCG', 'value': 'WCG'}, {'label': 'WFC', 'value': 'WFC'}, {'label': 'WELL', 'value': 'WELL'}, {'label': 'WDC', 'value': 'WDC'}, {'label': 'WU', 'value': 'WU'}, {'label': 'WRK', 'value': 'WRK'}, {'label': 'WY', 'value': 'WY'}, {'label': 'WHR', 'value': 'WHR'}, {'label': 'WMB', 'value': 'WMB'}, {'label': 'WLTW', 'value': 'WLTW'}, {'label': 'WYNN', 'value': 'WYNN'}, {'label': 'XEL', 'value': 'XEL'}, {'label': 'XRX', 'value': 'XRX'}, {'label': 'XLNX', 'value': 'XLNX'}, {'label': 'XYL', 'value': 'XYL'}, {'label': 'YUM', 'value': 'YUM'}, {'label': 'ZBH', 'value': 'ZBH'}, {'label': 'ZION', 'value': 'ZION'}, {'label': 'ZTS', 'value': 'ZTS'}]\n"
          ]
        }
      ]
    },
    {
      "cell_type": "markdown",
      "source": [
        "**Dashboard Interface**"
      ],
      "metadata": {
        "id": "Ym3FVf5BLnWX"
      }
    },
    {
      "cell_type": "code",
      "source": [
        "app = dash.Dash(__name__, external_stylesheets=['https://codepen.io/chriddyp/pen/bWLwgP.css'])"
      ],
      "metadata": {
        "id": "jjaFqac3LksT"
      },
      "execution_count": 12,
      "outputs": []
    },
    {
      "cell_type": "code",
      "source": [
        "app.layout = html.Div([\n",
        "    html.Div([\n",
        "        html.Div([\n",
        "            html.H3(children='Robo Advisor Dashboard'),\n",
        "            html.Div([\n",
        "                html.H5(children='Step 1 : Enter Investor Characteristics '),\n",
        "                ],style={'display': 'inline-block','vertical-align': 'top',  'width': '30%',\\\n",
        "                         'color':'black', 'background-color': 'LightGray'}),\n",
        "            html.Div([\n",
        "                html.H5(children='Step 2 : Asset Allocation and portfolio performance'),\n",
        "                ],style={'display': 'inline-block', 'vertical-align': 'top',  \\\n",
        "                         'color':'white','horizontalAlign' : \"left\", 'width': '70%', 'background-color':'black'}),\n",
        "            ],style={'font-family': 'calibri'}),\n",
        "         html.Div([\n",
        "          html.Div([\n",
        "            html.Label('Age:',style={'padding': 5}),\n",
        "            dcc.Slider(\n",
        "                id='Age',\n",
        "                min = investors['AGE07'].min(),\n",
        "                max = 70,\n",
        "                marks={ 25: '25',35: '35',45: '45',55: '55',70: '70'},\n",
        "                value=25),\n",
        "            #html.Br(),\n",
        "              html.Label('NetWorth:', style={'padding': 5}),\n",
        "            dcc.Slider(\n",
        "                id='Nwcat',\n",
        "                #min = investors['NETWORTH07'].min(),\n",
        "                min = -1000000, max = 3000000,\n",
        "                marks={-1000000: '-$1M',0: '0',500000: '$500K',1000000: '$1M',2000000: '$2M',},\n",
        "                value=10000),\n",
        "            #html.Br(),\n",
        "            html.Label('Income:', style={'padding': 5}),\n",
        "            dcc.Slider(\n",
        "                id='Inccl',\n",
        "                #min = investors['INCOME07'].min(), max = investors['INCOME07'].max(),\n",
        "                min = -1000000,\n",
        "                max = 3000000,\n",
        "                marks={-1000000: '-$1M',0: '0',500000: '$500K',1000000: '$1M',2000000: '$2M',},\n",
        "                value=100000),\n",
        "           # html.Br(),\n",
        "            html.Label('Education Level (scale of 4):', style={'padding': 5}),\n",
        "            dcc.Slider(\n",
        "                id='Edu',\n",
        "                min = investors['EDCL07'].min(), max = investors['EDCL07'].max(),\n",
        "                marks={ 1: '1',2: '2',3: '3',4: '4'},\n",
        "                value=2),\n",
        "            #html.Br(),\n",
        "            html.Label('Married:', style={'padding': 5}),\n",
        "            dcc.Slider(\n",
        "                id='Married',\n",
        "                min = investors['MARRIED07'].min(), max = investors['MARRIED07'].max(),\n",
        "                marks={ 1: '1',2: '2'},\n",
        "                value=1),\n",
        "            #html.Br(),\n",
        "            html.Label('Kids:', style={'padding': 5}),\n",
        "            dcc.Slider(\n",
        "                id='Kids',\n",
        "                min = investors['KIDS07'].min(), max = investors['KIDS07'].max(),\n",
        "                #marks={ 1: '1',2: '2',3: '3',4: '4'},\n",
        "                marks=[{'label': j, 'value': j} for j in investors['KIDS07'].unique()],\n",
        "                value=3),\n",
        "            #html.Br(),\n",
        "              html.Label('Occupation:', style={'padding': 5}),\n",
        "            dcc.Slider(\n",
        "                id='Occ',\n",
        "                min = investors['OCCAT107'].min(), max = investors['OCCAT107'].max(),\n",
        "                marks={ 1: '1',2: '2',3: '3',4: '4'},\n",
        "                value=3),\n",
        "            #html.Br(),\n",
        "            html.Label('Willingness to take Risk:', style={'padding': 5}),\n",
        "            dcc.Slider(\n",
        "                id='Risk',\n",
        "                min = investors['RISK07'].min(), max = investors['RISK07'].max(),\n",
        "                marks={ 1: '1',2: '2',3: '3',4: '4'},\n",
        "                value=3),\n",
        "            #html.Br(),\n",
        "            html.Button(id='investor_char_button',\n",
        "                            n_clicks = 0,\n",
        "                            children = 'Calculate Risk Tolerance',\n",
        "                            style = {'fontSize': 13, 'marginLeft': '30px', 'color' : 'white',\\\n",
        "                                     'horizontal-align': 'left','backgroundColor': 'grey'}),\n",
        "            #html.Br(),\n",
        "              ],style={'width': '80%'}),\n",
        "\n",
        "            ],style={'width': '30%', 'font-family': 'calibri','vertical-align': 'top','display': 'inline-block'\\\n",
        "                     }),\n",
        "#                     , \"border\":\".5px black solid\"}),\n",
        "    # ********************Risk Tolerance Charts********\n",
        "        html.Div([\n",
        "               #html.H5(children='Step 2 : Enter the Instruments for the allocation portfolio'),\n",
        "        html.Div([\n",
        "            html.Div([\n",
        "                html.Label('Risk Tolerance (scale of 100) :', style={'padding': 5}),\n",
        "                dcc.Input(id= 'risk-tolerance-text'),\n",
        "\n",
        "                ],style={'width': '100%','font-family': 'calibri','vertical-align': 'top','display': 'inline-block'}),\n",
        "            html.Div([\n",
        "                html.Label('Select the assets for the portfolio:', style={'padding': 5}),\n",
        "                dcc.Dropdown(\n",
        "                        id='ticker_symbol',\n",
        "                        options = options,\n",
        "                        value = ['GOOGL', 'FB', 'GS','MS','GE','MSFT'],\n",
        "                        multi = True\n",
        "                        # style={'fontSize': 24, 'width': 75}\n",
        "                        ),\n",
        "                html.Button(id='submit-asset_alloc_button',\n",
        "                            n_clicks = 0,\n",
        "                            children = 'Submit',\n",
        "                            style = {'fontSize': 13, 'marginLeft': '25px','color' : 'white', 'backgroundColor': 'grey'}\n",
        "                ),\n",
        "               ],style={'width': '100%','font-family': 'calibri','vertical-align': 'top','display': 'inline-block'}),\n",
        "            ],style={'width': '100%','display': 'inline-block','font-family': 'calibri','vertical-align': 'top'}),\n",
        "           html.Div([\n",
        "                html.Div([\n",
        "                    dcc.Graph(id='Asset-Allocation'),\n",
        "                    ], style={'width': '50%', 'vertical-align': 'top', 'display': 'inline-block', \\\n",
        "                      'font-family': 'calibri', 'horizontal-align': 'right'}),\n",
        "                html.Div([\n",
        "                    dcc.Graph(id='Performance')\n",
        "                    ], style={'width': '50%', 'vertical-align': 'top', 'display': 'inline-block', \\\n",
        "                      'font-family': 'calibri', 'horizontal-align': 'right'}),\n",
        "                   ], style={'width': '100%', 'vertical-align': 'top', 'display': 'inline-block', \\\n",
        "                          'font-family': 'calibri', 'horizontal-align': 'right'}),\n",
        "            ], style={'width': '70%','display': 'inline-block','font-family': 'calibri','vertical-align': 'top', 'horizontal-align': 'right'}),\n",
        "       ],style={'width': '70%','display': 'inline-block','font-family': 'calibri','vertical-align': 'top'}),\n",
        "  ])"
      ],
      "metadata": {
        "id": "PGj3l-OcL286"
      },
      "execution_count": 13,
      "outputs": []
    },
    {
      "cell_type": "code",
      "source": [
        "def predict_riskTolerance(X_input):\n",
        "    filename = 'finalized_model_risk_tolerance.sav'\n",
        "    loaded_model = load(open(filename, 'rb'))\n",
        "    predictions = loaded_model.predict(X_input)\n",
        "    return predictions"
      ],
      "metadata": {
        "id": "Aqq_191EMtgp"
      },
      "execution_count": 14,
      "outputs": []
    },
    {
      "cell_type": "code",
      "source": [
        "def get_asset_allocation(riskTolerance,stock_ticker):\n",
        "    assets_selected = assets.loc[:,stock_ticker]\n",
        "    return_vec = np.array(assets_selected.pct_change().dropna(axis=0)).T\n",
        "    n = len(return_vec)\n",
        "    returns = np.asmatrix(return_vec)\n",
        "    mus = 1-riskTolerance\n",
        "    S = opt.matrix(np.cov(return_vec))\n",
        "    pbar = opt.matrix(np.mean(return_vec, axis=1))\n",
        "    G = -opt.matrix(np.eye(n))\n",
        "    h = opt.matrix(0.0, (n ,1))\n",
        "    A = opt.matrix(1.0, (1, n))\n",
        "    b = opt.matrix(1.0)\n",
        "    portfolios = solvers.qp(mus*S, -pbar, G, h, A, b)\n",
        "    w=portfolios['x'].T\n",
        "    print (w)\n",
        "    Alloc =  pd.DataFrame(data = np.array(portfolios['x']),index = assets_selected.columns)\n",
        "    portfolios = solvers.qp(mus*S, -pbar, G, h, A, b)\n",
        "    returns_final=(np.array(assets_selected) * np.array(w))\n",
        "    returns_sum = np.sum(returns_final,axis =1)\n",
        "    returns_sum_pd = pd.DataFrame(returns_sum, index = assets.index )\n",
        "    returns_sum_pd = returns_sum_pd - returns_sum_pd.iloc[0,:] + 100\n",
        "    return Alloc,returns_sum_pd"
      ],
      "metadata": {
        "id": "UjbUEhmcMzkZ"
      },
      "execution_count": 15,
      "outputs": []
    },
    {
      "cell_type": "code",
      "source": [
        "@app.callback(\n",
        "    [\n",
        "        Output('risk-tolerance-text', 'value')\n",
        "    ],\n",
        "    [\n",
        "        Input('investor_char_button', 'n_clicks'),\n",
        "        Input('Age', 'value'),\n",
        "        Input('Nwcat', 'value'),\n",
        "        Input('Inccl', 'value'),\n",
        "        Input('Risk', 'value'),\n",
        "        Input('Edu', 'value'),\n",
        "        Input('Married', 'value'),\n",
        "        Input('Kids', 'value'),\n",
        "        Input('Occ', 'value')\n",
        "    ]\n",
        ")\n",
        "\n",
        "def update_risk_tolerance(n_clicks,Age,Nwcat,Inccl,Risk,Edu,Married,Kids,Occ):\n",
        "    RiskTolerance = 0\n",
        "    if n_clicks != None:\n",
        "        X_input = [[Age,Edu,Married,Kids,Occ,Inccl, Risk,Nwcat]]\n",
        "        RiskTolerance= predict_riskTolerance(X_input)\n",
        "    return list([round(float(RiskTolerance*100),2)])"
      ],
      "metadata": {
        "id": "o5HEDWcgM2-n"
      },
      "execution_count": 16,
      "outputs": []
    },
    {
      "cell_type": "code",
      "source": [
        "@app.callback(\n",
        "    [\n",
        "        Output('Asset-Allocation', 'figure'),\n",
        "        Output('Performance', 'figure')\n",
        "    ],\n",
        "    [\n",
        "        Input('submit-asset_alloc_button', 'n_clicks'),\n",
        "        Input('risk-tolerance-text', 'value')\n",
        "    ],\n",
        "    [\n",
        "        State('ticker_symbol', 'value')\n",
        "    ]\n",
        ")\n",
        "\n",
        "def update_asset_allocationChart(n_clicks, risk_tolerance, stock_ticker):\n",
        "    Allocated, InvestmentReturn = get_asset_allocation(risk_tolerance,stock_ticker)\n",
        "    return [{'data' : [go.Bar(\n",
        "                        x=Allocated.index,\n",
        "                        y=Allocated.iloc[:,0],\n",
        "                        marker=dict(color='red'),\n",
        "                    ),\n",
        "                    ],\n",
        "            'layout': {'title':\" Asset allocation - Mean-Variance Allocation\"}\n",
        "\n",
        "       },\n",
        "            {'data' : [go.Scatter(\n",
        "                        x=InvestmentReturn.index,\n",
        "                        y=InvestmentReturn.iloc[:,0],\n",
        "                        name = 'OEE (%)',\n",
        "                        marker=dict(color='red'),\n",
        "                    ),\n",
        "                    ],\n",
        "            'layout': {'title':\"Portfolio value of $100 investment\"}\n",
        "       }]"
      ],
      "metadata": {
        "id": "JniEKYRRM8vY"
      },
      "execution_count": 17,
      "outputs": []
    },
    {
      "cell_type": "code",
      "source": [
        "if __name__ == '__main__':\n",
        "    app.run_server()"
      ],
      "metadata": {
        "colab": {
          "base_uri": "https://localhost:8080/",
          "height": 671
        },
        "id": "Yt1qJTCpM9wn",
        "outputId": "6f2a4247-5ac7-4b0b-fa6f-d1f40672cb85"
      },
      "execution_count": 18,
      "outputs": [
        {
          "output_type": "display_data",
          "data": {
            "text/plain": [
              "<IPython.core.display.Javascript object>"
            ],
            "application/javascript": [
              "(async (port, path, width, height, cache, element) => {\n",
              "    if (!google.colab.kernel.accessAllowed && !cache) {\n",
              "      return;\n",
              "    }\n",
              "    element.appendChild(document.createTextNode(''));\n",
              "    const url = await google.colab.kernel.proxyPort(port, {cache});\n",
              "    const iframe = document.createElement('iframe');\n",
              "    iframe.src = new URL(path, url).toString();\n",
              "    iframe.height = height;\n",
              "    iframe.width = width;\n",
              "    iframe.style.border = 0;\n",
              "    iframe.allow = [\n",
              "        'accelerometer',\n",
              "        'autoplay',\n",
              "        'camera',\n",
              "        'clipboard-read',\n",
              "        'clipboard-write',\n",
              "        'gyroscope',\n",
              "        'magnetometer',\n",
              "        'microphone',\n",
              "        'serial',\n",
              "        'usb',\n",
              "        'xr-spatial-tracking',\n",
              "    ].join('; ');\n",
              "    element.appendChild(iframe);\n",
              "  })(8050, \"/\", \"100%\", 650, false, window.element)"
            ]
          },
          "metadata": {}
        }
      ]
    }
  ]
}