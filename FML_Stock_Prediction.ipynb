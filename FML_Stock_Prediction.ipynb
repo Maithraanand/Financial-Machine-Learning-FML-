{
  "nbformat": 4,
  "nbformat_minor": 0,
  "metadata": {
    "colab": {
      "provenance": [],
      "authorship_tag": "ABX9TyPSNxk6FR0kEql0BmG8yG8T",
      "include_colab_link": true
    },
    "kernelspec": {
      "name": "python3",
      "display_name": "Python 3"
    },
    "language_info": {
      "name": "python"
    }
  },
  "cells": [
    {
      "cell_type": "markdown",
      "metadata": {
        "id": "view-in-github",
        "colab_type": "text"
      },
      "source": [
        "<a href=\"https://colab.research.google.com/github/Maithraanand/Financial-Machine-Learning-FML-/blob/main/FML_Stock_Prediction.ipynb\" target=\"_parent\"><img src=\"https://colab.research.google.com/assets/colab-badge.svg\" alt=\"Open In Colab\"/></a>"
      ]
    },
    {
      "cell_type": "markdown",
      "source": [
        "#STOCK PREDICTION"
      ],
      "metadata": {
        "id": "Qjib_sIXIE22"
      }
    },
    {
      "cell_type": "markdown",
      "source": [
        "**Import Libraries**"
      ],
      "metadata": {
        "id": "42wYc3BEpk78"
      }
    },
    {
      "cell_type": "code",
      "execution_count": null,
      "metadata": {
        "id": "xM3DFbniaMbB"
      },
      "outputs": [],
      "source": [
        "import pandas as pd\n",
        "import numpy as np\n",
        "from sklearn.model_selection import train_test_split\n",
        "from sklearn.linear_model import Lasso\n",
        "from sklearn.metrics import mean_squared_error, r2_score\n",
        "import matplotlib.pyplot as plt"
      ]
    },
    {
      "cell_type": "markdown",
      "source": [
        "**Load and display the Data**"
      ],
      "metadata": {
        "id": "0_d4pNunprHY"
      }
    },
    {
      "cell_type": "code",
      "source": [
        "# Load the data\n",
        "df = pd.read_csv('Quote-Equity-HCLTECH-EQ-02-06-2024-to-02-09-2024.csv', encoding='UTF-8-SIG')\n",
        "\n",
        "# Display the first few rows of the dataframe to understand its structure\n",
        "print(df.head())"
      ],
      "metadata": {
        "colab": {
          "base_uri": "https://localhost:8080/"
        },
        "id": "p1QFz01CpvPm",
        "outputId": "82fe89ad-f99c-4185-8ea8-0280c37dd137"
      },
      "execution_count": null,
      "outputs": [
        {
          "output_type": "stream",
          "name": "stdout",
          "text": [
            "         Date  series      OPEN      HIGH       LOW  PREV. CLOSE       ltp   \\\n",
            "0  30-Aug-2024      EQ  1,751.85  1,766.30  1,742.20     1,751.85  1,749.10   \n",
            "1  29-Aug-2024      EQ  1,714.00  1,756.00  1,697.25     1,719.45  1,750.45   \n",
            "2  28-Aug-2024      EQ  1,712.55  1,737.75  1,693.05     1,711.60  1,714.00   \n",
            "3  27-Aug-2024      EQ  1,725.85  1,756.85  1,705.10     1,719.45  1,706.00   \n",
            "4  26-Aug-2024      EQ  1,671.00  1,734.00  1,667.10     1,661.45  1,731.95   \n",
            "\n",
            "     close      vwap     52W H     52W L     VOLUME              VALUE   \\\n",
            "0  1,753.25  1,754.62  1,766.30  1,139.30  47,92,561  8,40,91,17,094.05   \n",
            "1  1,751.85  1,743.29  1,756.85  1,139.30  51,12,407  8,91,24,13,845.35   \n",
            "2  1,719.45  1,724.11  1,756.85  1,139.30  25,16,461  4,33,86,61,403.90   \n",
            "3  1,711.60  1,729.29  1,756.85  1,139.30  35,56,487  6,15,02,06,994.95   \n",
            "4  1,719.45  1,704.59  1,734.00  1,139.30  26,72,708  4,55,58,72,150.30   \n",
            "\n",
            "  No of trades   \n",
            "0      1,38,406  \n",
            "1      2,04,310  \n",
            "2        83,998  \n",
            "3      1,57,952  \n",
            "4      1,14,075  \n"
          ]
        }
      ]
    },
    {
      "cell_type": "markdown",
      "source": [
        "**Data Preprocessing**"
      ],
      "metadata": {
        "id": "dHXyDK0op5fw"
      }
    },
    {
      "cell_type": "code",
      "source": [
        "# Strip whitespace from column names\n",
        "df.columns = df.columns.str.strip()\n",
        "\n",
        "# Data preprocessing\n",
        "df['Date'] = pd.to_datetime(df['Date'])\n",
        "df = df.sort_values('Date')\n",
        "\n",
        "# Remove commas from numeric columns and convert to float\n",
        "numeric_columns = ['OPEN', 'HIGH', 'LOW', 'close', 'VOLUME']\n",
        "for col in numeric_columns:\n",
        "    df[col] = df[col].str.replace(',', '').astype(float)\n",
        "\n",
        "# Create features (X) and target (y)\n",
        "X = df[['OPEN', 'HIGH', 'LOW']]\n",
        "y = df['close']\n",
        "\n",
        "# Split the data into training and testing sets\n",
        "X_train, X_test, y_train, y_test = train_test_split(X, y, test_size=0.2, random_state=42)\n"
      ],
      "metadata": {
        "id": "B_dcfQBNp2I8"
      },
      "execution_count": null,
      "outputs": []
    },
    {
      "cell_type": "markdown",
      "source": [
        "**Lasso Regression Model**"
      ],
      "metadata": {
        "id": "1z0AkP9iqKio"
      }
    },
    {
      "cell_type": "code",
      "source": [
        "# Train the Lasso regression model\n",
        "model = Lasso(alpha=0.1)\n",
        "model.fit(X_train, y_train)"
      ],
      "metadata": {
        "colab": {
          "base_uri": "https://localhost:8080/",
          "height": 74
        },
        "id": "EIO3MPkqqJAV",
        "outputId": "2c3f1a1e-081e-4684-ced4-83da18941b17"
      },
      "execution_count": null,
      "outputs": [
        {
          "output_type": "execute_result",
          "data": {
            "text/plain": [
              "Lasso(alpha=0.1)"
            ],
            "text/html": [
              "<style>#sk-container-id-1 {color: black;}#sk-container-id-1 pre{padding: 0;}#sk-container-id-1 div.sk-toggleable {background-color: white;}#sk-container-id-1 label.sk-toggleable__label {cursor: pointer;display: block;width: 100%;margin-bottom: 0;padding: 0.3em;box-sizing: border-box;text-align: center;}#sk-container-id-1 label.sk-toggleable__label-arrow:before {content: \"▸\";float: left;margin-right: 0.25em;color: #696969;}#sk-container-id-1 label.sk-toggleable__label-arrow:hover:before {color: black;}#sk-container-id-1 div.sk-estimator:hover label.sk-toggleable__label-arrow:before {color: black;}#sk-container-id-1 div.sk-toggleable__content {max-height: 0;max-width: 0;overflow: hidden;text-align: left;background-color: #f0f8ff;}#sk-container-id-1 div.sk-toggleable__content pre {margin: 0.2em;color: black;border-radius: 0.25em;background-color: #f0f8ff;}#sk-container-id-1 input.sk-toggleable__control:checked~div.sk-toggleable__content {max-height: 200px;max-width: 100%;overflow: auto;}#sk-container-id-1 input.sk-toggleable__control:checked~label.sk-toggleable__label-arrow:before {content: \"▾\";}#sk-container-id-1 div.sk-estimator input.sk-toggleable__control:checked~label.sk-toggleable__label {background-color: #d4ebff;}#sk-container-id-1 div.sk-label input.sk-toggleable__control:checked~label.sk-toggleable__label {background-color: #d4ebff;}#sk-container-id-1 input.sk-hidden--visually {border: 0;clip: rect(1px 1px 1px 1px);clip: rect(1px, 1px, 1px, 1px);height: 1px;margin: -1px;overflow: hidden;padding: 0;position: absolute;width: 1px;}#sk-container-id-1 div.sk-estimator {font-family: monospace;background-color: #f0f8ff;border: 1px dotted black;border-radius: 0.25em;box-sizing: border-box;margin-bottom: 0.5em;}#sk-container-id-1 div.sk-estimator:hover {background-color: #d4ebff;}#sk-container-id-1 div.sk-parallel-item::after {content: \"\";width: 100%;border-bottom: 1px solid gray;flex-grow: 1;}#sk-container-id-1 div.sk-label:hover label.sk-toggleable__label {background-color: #d4ebff;}#sk-container-id-1 div.sk-serial::before {content: \"\";position: absolute;border-left: 1px solid gray;box-sizing: border-box;top: 0;bottom: 0;left: 50%;z-index: 0;}#sk-container-id-1 div.sk-serial {display: flex;flex-direction: column;align-items: center;background-color: white;padding-right: 0.2em;padding-left: 0.2em;position: relative;}#sk-container-id-1 div.sk-item {position: relative;z-index: 1;}#sk-container-id-1 div.sk-parallel {display: flex;align-items: stretch;justify-content: center;background-color: white;position: relative;}#sk-container-id-1 div.sk-item::before, #sk-container-id-1 div.sk-parallel-item::before {content: \"\";position: absolute;border-left: 1px solid gray;box-sizing: border-box;top: 0;bottom: 0;left: 50%;z-index: -1;}#sk-container-id-1 div.sk-parallel-item {display: flex;flex-direction: column;z-index: 1;position: relative;background-color: white;}#sk-container-id-1 div.sk-parallel-item:first-child::after {align-self: flex-end;width: 50%;}#sk-container-id-1 div.sk-parallel-item:last-child::after {align-self: flex-start;width: 50%;}#sk-container-id-1 div.sk-parallel-item:only-child::after {width: 0;}#sk-container-id-1 div.sk-dashed-wrapped {border: 1px dashed gray;margin: 0 0.4em 0.5em 0.4em;box-sizing: border-box;padding-bottom: 0.4em;background-color: white;}#sk-container-id-1 div.sk-label label {font-family: monospace;font-weight: bold;display: inline-block;line-height: 1.2em;}#sk-container-id-1 div.sk-label-container {text-align: center;}#sk-container-id-1 div.sk-container {/* jupyter's `normalize.less` sets `[hidden] { display: none; }` but bootstrap.min.css set `[hidden] { display: none !important; }` so we also need the `!important` here to be able to override the default hidden behavior on the sphinx rendered scikit-learn.org. See: https://github.com/scikit-learn/scikit-learn/issues/21755 */display: inline-block !important;position: relative;}#sk-container-id-1 div.sk-text-repr-fallback {display: none;}</style><div id=\"sk-container-id-1\" class=\"sk-top-container\"><div class=\"sk-text-repr-fallback\"><pre>Lasso(alpha=0.1)</pre><b>In a Jupyter environment, please rerun this cell to show the HTML representation or trust the notebook. <br />On GitHub, the HTML representation is unable to render, please try loading this page with nbviewer.org.</b></div><div class=\"sk-container\" hidden><div class=\"sk-item\"><div class=\"sk-estimator sk-toggleable\"><input class=\"sk-toggleable__control sk-hidden--visually\" id=\"sk-estimator-id-1\" type=\"checkbox\" checked><label for=\"sk-estimator-id-1\" class=\"sk-toggleable__label sk-toggleable__label-arrow\">Lasso</label><div class=\"sk-toggleable__content\"><pre>Lasso(alpha=0.1)</pre></div></div></div></div></div>"
            ]
          },
          "metadata": {},
          "execution_count": 5
        }
      ]
    },
    {
      "cell_type": "code",
      "source": [
        "# Make predictions\n",
        "y_pred = model.predict(X_test)\n",
        "\n",
        "# Evaluate the model\n",
        "mse = mean_squared_error(y_test, y_pred)\n",
        "r2 = r2_score(y_test, y_pred)\n",
        "\n",
        "print(\"Mean Squared Error:\", mse)\n",
        "print(\"R-squared Score:\", r2)\n",
        "\n",
        "# Plot actual vs predicted values\n",
        "plt.figure(figsize=(10, 6))\n",
        "plt.scatter(y_test, y_pred, color='blue', alpha=0.5)\n",
        "plt.plot([y_test.min(), y_test.max()], [y_test.min(), y_test.max()], 'r--', lw=2)\n",
        "plt.xlabel(\"Actual Close Price\")\n",
        "plt.ylabel(\"Predicted Close Price\")\n",
        "plt.title(\"Actual vs Predicted Close Prices\")\n",
        "plt.tight_layout()\n",
        "plt.show()\n",
        "\n",
        "# Print model coefficients\n",
        "print(\"Model Coefficients:\")\n",
        "for feature, coef in zip(X.columns, model.coef_):\n",
        "    print(f\"{feature}: {coef}\")\n",
        "print(f\"Intercept: {model.intercept_}\")\n",
        "\n",
        "# Display a sample of actual vs predicted values\n",
        "sample_size = min(10, len(y_test))\n",
        "sample = pd.DataFrame({'Actual': y_test.iloc[:sample_size], 'Predicted': y_pred[:sample_size]})\n",
        "print(\"Sample of Actual vs Predicted Values:\")\n",
        "print(sample)"
      ],
      "metadata": {
        "colab": {
          "base_uri": "https://localhost:8080/",
          "height": 953
        },
        "id": "S6yH2Z21qWrT",
        "outputId": "c2f75203-8656-4a18-f429-b71fd02f9e46"
      },
      "execution_count": null,
      "outputs": [
        {
          "output_type": "stream",
          "name": "stdout",
          "text": [
            "Mean Squared Error: 73.55453776797191\n",
            "R-squared Score: 0.9949144297592112\n"
          ]
        },
        {
          "output_type": "display_data",
          "data": {
            "text/plain": [
              "<Figure size 1000x600 with 1 Axes>"
            ],
            "image/png": "[encoded data removed]"
          },
          "metadata": {}
        },
        {
          "output_type": "stream",
          "name": "stdout",
          "text": [
            "Model Coefficients:\n",
            "OPEN: -0.22092956857853255\n",
            "HIGH: 0.7111042046587482\n",
            "LOW: 0.47997715844969335\n",
            "Intercept: 44.34647189366956\n",
            "Sample of Actual vs Predicted Values:\n",
            "     Actual    Predicted\n",
            "11  1626.15  1616.882640\n",
            "5   1661.45  1668.337750\n",
            "61  1314.45  1338.036545\n",
            "4   1719.45  1708.397775\n",
            "56  1418.75  1422.388235\n",
            "13  1585.25  1586.602788\n",
            "45  1443.70  1448.202393\n",
            "49  1443.45  1440.736358\n",
            "36  1531.10  1537.118670\n",
            "2   1719.45  1714.340199\n"
          ]
        }
      ]
    },
    {
      "cell_type": "markdown",
      "source": [
        "**Predicting Future Values**"
      ],
      "metadata": {
        "id": "FoG2yDi8vByA"
      }
    },
    {
      "cell_type": "code",
      "source": [
        "# Create a DataFrame with the future data\n",
        "future_data = pd.DataFrame({\n",
        "    'OPEN': [1240.0, 1250.0],  # Example future open prices\n",
        "    'HIGH': [1255.0, 1260.0],  # Example future high prices\n",
        "    'LOW': [1235.0, 1245.0],   # Example future low prices\n",
        "})\n",
        "\n",
        "# Predict the close prices for future dates\n",
        "future_predictions = model.predict(future_data)\n",
        "\n",
        "# Display the predictions\n",
        "print(\"Future Predictions:\")\n",
        "for i, prediction in enumerate(future_predictions):\n",
        "    print(f\"Future Date {i+1}: Predicted Close Price = {prediction}\")"
      ],
      "metadata": {
        "colab": {
          "base_uri": "https://localhost:8080/"
        },
        "id": "4gwYXWf1ut4C",
        "outputId": "c7291f42-ca9b-4c82-ac4e-f9ce010496f8"
      },
      "execution_count": null,
      "outputs": [
        {
          "output_type": "stream",
          "name": "stdout",
          "text": [
            "Future Predictions:\n",
            "Future Date 1: Predicted Close Price = 1255.6013743883896\n",
            "Future Date 2: Predicted Close Price = 1261.7473713103948\n"
          ]
        }
      ]
    }
  ]
}